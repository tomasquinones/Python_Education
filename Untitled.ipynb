{
 "cells": [
  {
   "cell_type": "code",
   "execution_count": 5,
   "metadata": {},
   "outputs": [],
   "source": [
    "import random, sys"
   ]
  },
  {
   "cell_type": "code",
   "execution_count": 4,
   "metadata": {},
   "outputs": [],
   "source": [
    "# These variables keep track of number of wins, losses, and ties.\n",
    "playerSelections = ('r', 'p', 's', 'q')\n",
    "\n",
    "wins = 0\n",
    "losses = 0\n",
    "ties = 0\n",
    "games = 0\n",
    "lastWinner = \"\"\n",
    "moves = {'r':'Rock', 'p': 'Paper', 's': 'Scissors'} "
   ]
  }
 ],
 "metadata": {
  "kernelspec": {
   "display_name": "'Python Interactive'",
   "language": "python",
   "name": "369c0974-212d-4edb-b7f8-a2333b986e88"
  },
  "language_info": {
   "codemirror_mode": {
    "name": "ipython",
    "version": 3
   },
   "file_extension": ".py",
   "mimetype": "text/x-python",
   "name": "python",
   "nbconvert_exporter": "python",
   "pygments_lexer": "ipython3",
   "version": "3.7.4"
  }
 },
 "nbformat": 4,
 "nbformat_minor": 4
}
